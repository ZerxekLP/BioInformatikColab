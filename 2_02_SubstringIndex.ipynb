{
  "cells": [
    {
      "cell_type": "markdown",
      "metadata": {
        "id": "view-in-github",
        "colab_type": "text"
      },
      "source": [
        "<a href=\"https://colab.research.google.com/github/ZerxekLP/BioInformatikColab/blob/main/2_02_SubstringIndex.ipynb\" target=\"_parent\"><img src=\"https://colab.research.google.com/assets/colab-badge.svg\" alt=\"Open In Colab\"/></a>"
      ]
    },
    {
      "cell_type": "markdown",
      "metadata": {
        "id": "zXgYp4RM-K_q"
      },
      "source": [
        "# Substring Index\n",
        "We want to build an Index with Bisect library"
      ]
    },
    {
      "cell_type": "code",
      "execution_count": 16,
      "metadata": {
        "collapsed": true,
        "id": "Onu0x72l-K_r"
      },
      "outputs": [],
      "source": [
        "import bisect\n",
        "import sys"
      ]
    },
    {
      "cell_type": "code",
      "execution_count": 9,
      "metadata": {
        "collapsed": true,
        "id": "mU-u68DH-K_s"
      },
      "outputs": [],
      "source": [
        "import bisect\n",
        "\n",
        "class Index(object):\n",
        "    def __init__(self, t, k):\n",
        "        ''' Constructor: Create index from all substrings of size 'k'\n",
        "        param t: Text on which the index will be created\n",
        "        param k: length of the substring index'''\n",
        "        self.k = k\n",
        "        self.index = []\n",
        "        self.text = t\n",
        "\n",
        "        # Build k-mer index and append (k-mer, position) to the index list\n",
        "        for i in range(len(t) - k + 1):\n",
        "            kmer = t[i:i+k]\n",
        "            self.index.append((kmer, i))\n",
        "\n",
        "        # Alphabetize by k-mer for using bisect\n",
        "        self.index.sort()\n",
        "\n",
        "    def query(self, p):\n",
        "        ''' Return index hits for first k-mer of P\n",
        "        param p: search pattern\n",
        "        returns: 1st index hit for p in index'''\n",
        "        # Select first k-mer of pattern p\n",
        "        kmer = p[:self.k]\n",
        "\n",
        "        # Do binary search in index using bisect\n",
        "        i = bisect.bisect_left(self.index, (kmer,))\n",
        "\n",
        "        hits = []\n",
        "\n",
        "        # Collect matching index entries\n",
        "        while i < len(self.index) and self.index[i][0] == kmer:\n",
        "            hits.append(self.index[i][1])\n",
        "            i += 1\n",
        "\n",
        "        return hits"
      ]
    },
    {
      "cell_type": "code",
      "execution_count": 10,
      "metadata": {
        "collapsed": true,
        "id": "F1lnK2CG-K_t"
      },
      "outputs": [],
      "source": [
        "def queryIndex(p, t, index):\n",
        "    \"\"\"Queries the index for pattern p in text t, using the index-object\"\"\"\n",
        "    k = index.k\n",
        "    offsets = []\n",
        "\n",
        "\n",
        "\n",
        "    return offsets"
      ]
    },
    {
      "cell_type": "code",
      "execution_count": 11,
      "metadata": {
        "collapsed": true,
        "id": "HY-c2FcZ-K_t"
      },
      "outputs": [],
      "source": [
        "t = 'ACTTGGAGATCTTTGAGGCTAGGTATTCGGGATCGAAGCTCATTTCGGGGATCGATTACGATATGGTGGGTATTCGGGA'\n",
        "p = 'GGTATTCGGGA'"
      ]
    },
    {
      "cell_type": "code",
      "execution_count": 12,
      "metadata": {
        "colab": {
          "base_uri": "https://localhost:8080/"
        },
        "id": "_Q0NeoRm-K_t",
        "outputId": "3459f8e4-22cb-437e-8ec3-5fca094e6311"
      },
      "outputs": [
        {
          "output_type": "stream",
          "name": "stdout",
          "text": [
            "[]\n"
          ]
        }
      ],
      "source": [
        "index = Index(t, 4)\n",
        "print(queryIndex(p, t, index))"
      ]
    },
    {
      "cell_type": "markdown",
      "metadata": {
        "id": "UP4KZ7kE-K_u"
      },
      "source": [
        "## Unit Tests"
      ]
    },
    {
      "cell_type": "code",
      "execution_count": 13,
      "metadata": {
        "collapsed": true,
        "id": "eeoq05wg-K_u"
      },
      "outputs": [],
      "source": [
        "import unittest"
      ]
    },
    {
      "cell_type": "code",
      "execution_count": 14,
      "metadata": {
        "collapsed": true,
        "id": "SuYAhRBv-K_u"
      },
      "outputs": [],
      "source": [
        "class MyTest(unittest.TestCase):\n",
        "    def setUp(self):\n",
        "        t = 'ACTTGGAGATCTTTGAGGCTAGGTATTCGGGATCGAAGCTCATTTCGGGGATCGATTACGATATGGTGGGTATTCGGGA'\n",
        "        p = 'GGTATTCGGGA'\n",
        "\n",
        "    def testQueryIndex(self):\n",
        "        self.assertEqual([21, 68], queryIndex(p, t, index))"
      ]
    },
    {
      "cell_type": "code",
      "execution_count": 17,
      "metadata": {
        "colab": {
          "base_uri": "https://localhost:8080/"
        },
        "id": "bYhJF96B-K_u",
        "outputId": "635d9d40-7248-40ec-9f61-7dd0c4cadd73"
      },
      "outputs": [
        {
          "output_type": "stream",
          "name": "stderr",
          "text": [
            "F\n",
            "======================================================================\n",
            "FAIL: testQueryIndex (__main__.MyTest)\n",
            "----------------------------------------------------------------------\n",
            "Traceback (most recent call last):\n",
            "  File \"<ipython-input-14-80a0d1f3c122>\", line 7, in testQueryIndex\n",
            "    self.assertEqual([21, 68], queryIndex(p, t, index))\n",
            "AssertionError: Lists differ: [21, 68] != []\n",
            "\n",
            "First list contains 2 additional elements.\n",
            "First extra element 0:\n",
            "21\n",
            "\n",
            "- [21, 68]\n",
            "+ []\n",
            "\n",
            "----------------------------------------------------------------------\n",
            "Ran 1 test in 0.009s\n",
            "\n",
            "FAILED (failures=1)\n"
          ]
        },
        {
          "output_type": "execute_result",
          "data": {
            "text/plain": [
              "<unittest.runner.TextTestResult run=1 errors=0 failures=1>"
            ]
          },
          "metadata": {},
          "execution_count": 17
        }
      ],
      "source": [
        "suite = unittest.TestLoader().loadTestsFromTestCase( MyTest )\n",
        "unittest.TextTestRunner(verbosity=1,stream=sys.stderr).run( suite )"
      ]
    }
  ],
  "metadata": {
    "anaconda-cloud": {},
    "kernelspec": {
      "display_name": "Python 3",
      "language": "python",
      "name": "python3"
    },
    "language_info": {
      "codemirror_mode": {
        "name": "ipython",
        "version": 3
      },
      "file_extension": ".py",
      "mimetype": "text/x-python",
      "name": "python",
      "nbconvert_exporter": "python",
      "pygments_lexer": "ipython3",
      "version": "3.5.4"
    },
    "colab": {
      "provenance": [],
      "include_colab_link": true
    }
  },
  "nbformat": 4,
  "nbformat_minor": 0
}