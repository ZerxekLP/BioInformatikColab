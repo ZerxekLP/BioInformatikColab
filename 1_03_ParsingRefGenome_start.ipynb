{
  "cells": [
    {
      "cell_type": "markdown",
      "metadata": {
        "id": "view-in-github",
        "colab_type": "text"
      },
      "source": [
        "<a href=\"https://colab.research.google.com/github/ZerxekLP/BioInformatikColab/blob/main/1_03_ParsingRefGenome_start.ipynb\" target=\"_parent\"><img src=\"https://colab.research.google.com/assets/colab-badge.svg\" alt=\"Open In Colab\"/></a>"
      ]
    },
    {
      "cell_type": "code",
      "execution_count": null,
      "metadata": {
        "id": "h_xEXMLEiuHW",
        "outputId": "e3f2227b-4dd0-491e-b2c4-f8cc3d810ef8",
        "colab": {
          "base_uri": "https://localhost:8080/"
        }
      },
      "outputs": [
        {
          "output_type": "stream",
          "name": "stdout",
          "text": [
            "--2024-11-04 14:58:19--  http://d28rh4a8wq0iu5.cloudfront.net/ads1/data/lambda_virus.fa\n",
            "Resolving d28rh4a8wq0iu5.cloudfront.net (d28rh4a8wq0iu5.cloudfront.net)... 3.169.117.171, 3.169.117.197, 3.169.117.139, ...\n",
            "Connecting to d28rh4a8wq0iu5.cloudfront.net (d28rh4a8wq0iu5.cloudfront.net)|3.169.117.171|:80... connected.\n",
            "HTTP request sent, awaiting response... 200 OK\n",
            "Length: 49270 (48K) [application/octet-stream]\n",
            "Saving to: ‘lambda_virus.fa’\n",
            "\n",
            "lambda_virus.fa     100%[===================>]  48.12K  --.-KB/s    in 0.003s  \n",
            "\n",
            "2024-11-04 14:58:20 (13.9 MB/s) - ‘lambda_virus.fa’ saved [49270/49270]\n",
            "\n"
          ]
        }
      ],
      "source": [
        "# Following line downloads FASTA file containing the lambda phage reference genome\n",
        "# On Unix you could use wget to download the fasta file (just uncomment the following line)\n",
        "!wget http://d28rh4a8wq0iu5.cloudfront.net/ads1/data/lambda_virus.fa\n",
        "\n",
        "# On Windows you have to download the file manually into your working directory"
      ]
    },
    {
      "cell_type": "code",
      "execution_count": null,
      "metadata": {
        "id": "fqSzT2xViuHY",
        "outputId": "c995d6b2-ab18-43ab-d898-b9ab9ee01d5c",
        "colab": {
          "base_uri": "https://localhost:8080/",
          "height": 36
        }
      },
      "outputs": [
        {
          "output_type": "execute_result",
          "data": {
            "text/plain": [
              "'GGGCGGCGACCTCGCGGGTTTTCGCTATTTATGAAAATTTTCCGGTTTAAGGCGTTTCCGTTCTTCTTCGTCATAACTTAATGTTTTTATTTAAAATACC'"
            ],
            "application/vnd.google.colaboratory.intrinsic+json": {
              "type": "string"
            }
          },
          "metadata": {},
          "execution_count": 19
        }
      ],
      "source": [
        "# Write a function to read the Genome data from the file. Do not forget to ignore the header line\n",
        "def readGenome(filename):\n",
        "    genome = ''\n",
        "    with open(filename, \"r\") as file:\n",
        "      for line in file:\n",
        "        if not line.startswith(\">\"):\n",
        "          genome += line.strip()\n",
        "    return genome\n",
        "genome = readGenome('lambda_virus.fa')\n",
        "genome[:100]"
      ]
    },
    {
      "cell_type": "code",
      "execution_count": null,
      "metadata": {
        "id": "Vwx3612JiuHZ",
        "outputId": "a62febf7-0894-4b3a-fa85-34f421c9e645",
        "colab": {
          "base_uri": "https://localhost:8080/"
        }
      },
      "outputs": [
        {
          "output_type": "stream",
          "name": "stdout",
          "text": [
            "{'A': 12334, 'C': 11362, 'G': 12820, 'T': 11986}\n"
          ]
        }
      ],
      "source": [
        "# Count the number of occurences of each base in the variable genome\n",
        "counts = {\"A\": 0, \"C\": 0, \"G\":0, \"T\":0}\n",
        "line = readGenome(\"lambda_virus.fa\")\n",
        "listLine = list(line)\n",
        "for base in line:\n",
        "  if(base in counts):\n",
        "    counts[base] += 1\n",
        "print(counts)"
      ]
    },
    {
      "cell_type": "code",
      "execution_count": null,
      "metadata": {
        "id": "OtqkwcykiuHZ",
        "outputId": "68416d69-6bba-4bee-e3d1-87e06cd00538",
        "colab": {
          "base_uri": "https://localhost:8080/"
        }
      },
      "outputs": [
        {
          "output_type": "execute_result",
          "data": {
            "text/plain": [
              "Counter({'G': 12820, 'C': 11362, 'A': 12334, 'T': 11986, '\\n': 694})"
            ]
          },
          "metadata": {},
          "execution_count": 15
        }
      ],
      "source": [
        "# You could also use the Counter class\n",
        "# see documentation: https://docs.python.org/2/library/collections.html#collections.Counter\n",
        "import collections\n",
        "collections.Counter(genome)"
      ]
    },
    {
      "cell_type": "code",
      "execution_count": null,
      "metadata": {
        "collapsed": true,
        "id": "FsMXqRr6iuHa",
        "outputId": "9e4b8480-592d-4fe4-c83b-acbe2c74ff14",
        "colab": {
          "base_uri": "https://localhost:8080/"
        }
      },
      "outputs": [
        {
          "output_type": "stream",
          "name": "stderr",
          "text": [
            "test_notebook (__main__.TestNotebook) ... ok\n",
            "\n",
            "----------------------------------------------------------------------\n",
            "Ran 1 test in 0.006s\n",
            "\n",
            "OK\n"
          ]
        },
        {
          "output_type": "execute_result",
          "data": {
            "text/plain": [
              "<unittest.main.TestProgram at 0x7f2d5dbbae90>"
            ]
          },
          "metadata": {},
          "execution_count": 20
        }
      ],
      "source": [
        "import unittest\n",
        "class TestNotebook(unittest.TestCase):\n",
        "    def test_notebook(self):\n",
        "        self.assertEqual(readGenome('lambda_virus.fa')[:100], 'GGGCGGCGACCTCGCGGGTTTTCGCTATTTATGAAAATTTTCCGGTTTAAGGCGTTTCCGTTCTTCTTCGTCATAACTTAATGTTTTTATTTAAAATACC')\n",
        "        self.assertEqual(len(readGenome('lambda_virus.fa')), 48502)\n",
        "        self.assertEqual(counts['T'],11986)\n",
        "        self.assertEqual(counts['G'],12820)\n",
        "        self.assertEqual(counts['A'],12334)\n",
        "        self.assertEqual(counts['C'],11362)\n",
        "\n",
        "unittest.main(argv=[''], verbosity=2, exit=False)"
      ]
    }
  ],
  "metadata": {
    "kernelspec": {
      "display_name": "Python 3",
      "language": "python",
      "name": "python3"
    },
    "language_info": {
      "codemirror_mode": {
        "name": "ipython",
        "version": 3
      },
      "file_extension": ".py",
      "mimetype": "text/x-python",
      "name": "python",
      "nbconvert_exporter": "python",
      "pygments_lexer": "ipython3",
      "version": "3.5.4"
    },
    "colab": {
      "provenance": [],
      "include_colab_link": true
    }
  },
  "nbformat": 4,
  "nbformat_minor": 0
}