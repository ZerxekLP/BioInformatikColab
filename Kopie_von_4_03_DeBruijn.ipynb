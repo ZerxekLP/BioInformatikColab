{
  "cells": [
    {
      "cell_type": "markdown",
      "metadata": {
        "id": "view-in-github",
        "colab_type": "text"
      },
      "source": [
        "<a href=\"https://colab.research.google.com/github/ZerxekLP/BioInformatikColab/blob/main/Kopie_von_4_03_DeBruijn.ipynb\" target=\"_parent\"><img src=\"https://colab.research.google.com/assets/colab-badge.svg\" alt=\"Open In Colab\"/></a>"
      ]
    },
    {
      "cell_type": "markdown",
      "metadata": {
        "id": "PHddr0QoMHyM"
      },
      "source": [
        "# Build a DeBruijn Graph"
      ]
    },
    {
      "cell_type": "markdown",
      "metadata": {
        "id": "e5noliWTMHyP"
      },
      "source": [
        "Write a function \"de_bruijn_ize\" which gets a string and a kmer length k and returns the nodes and edges of the corresponding DeBruijn graph.\n",
        "\n",
        "Remember how to build the DeBruijn Graph:\n",
        "\n",
        "  1. For each kmer, build the left and right (k-1)mer. These are the two starting nodes of the graph.\n",
        "  2. Insert an edge between these two nodes.\n",
        "  3. Repeat for all remaining kmers."
      ]
    },
    {
      "cell_type": "code",
      "execution_count": 1,
      "metadata": {
        "collapsed": true,
        "id": "kHeVE2q8MHyQ"
      },
      "outputs": [],
      "source": [
        "def de_bruijn_ize(st, k):\n",
        "    \"\"\" Return a list holding, for each k-mer, its left\n",
        "        k-1-mer and its right k-1-mer in a pair \"\"\"\n",
        "    edges = []\n",
        "    nodes = set()\n",
        "\n",
        "    for i in range(len(st) - k + 1):\n",
        "        kmer = st[i:i + k]\n",
        "        left = kmer[:-1]\n",
        "        right = kmer[1:]\n",
        "        edges.append((left, right))\n",
        "        nodes.update([left, right])\n",
        "\n",
        "    return nodes, edges\n"
      ]
    },
    {
      "cell_type": "code",
      "execution_count": 2,
      "metadata": {
        "collapsed": true,
        "id": "Y4PuPRXJMHyS"
      },
      "outputs": [],
      "source": [
        "nodes, edges = de_bruijn_ize(\"ACGCGTCG\", 3)"
      ]
    },
    {
      "cell_type": "code",
      "execution_count": 3,
      "metadata": {
        "id": "fMDhSDo9MHyT",
        "outputId": "70e5caab-d68e-49a5-a337-ffea38558cf0",
        "colab": {
          "base_uri": "https://localhost:8080/"
        }
      },
      "outputs": [
        {
          "output_type": "execute_result",
          "data": {
            "text/plain": [
              "{'AC', 'CG', 'GC', 'GT', 'TC'}"
            ]
          },
          "metadata": {},
          "execution_count": 3
        }
      ],
      "source": [
        "nodes"
      ]
    },
    {
      "cell_type": "code",
      "execution_count": 4,
      "metadata": {
        "id": "v9rNGkdOMHyU",
        "outputId": "f4f92a67-b033-4610-d001-e3e0b2069334",
        "colab": {
          "base_uri": "https://localhost:8080/"
        }
      },
      "outputs": [
        {
          "output_type": "execute_result",
          "data": {
            "text/plain": [
              "[('AC', 'CG'),\n",
              " ('CG', 'GC'),\n",
              " ('GC', 'CG'),\n",
              " ('CG', 'GT'),\n",
              " ('GT', 'TC'),\n",
              " ('TC', 'CG')]"
            ]
          },
          "metadata": {},
          "execution_count": 4
        }
      ],
      "source": [
        "edges"
      ]
    },
    {
      "cell_type": "code",
      "execution_count": 5,
      "metadata": {
        "collapsed": true,
        "id": "DAdIZesIMHyV"
      },
      "outputs": [],
      "source": [
        "from graphviz import Digraph\n",
        "\n",
        "def visualize_de_bruijn(st, k):\n",
        "    \"\"\"Visualize a directed multigraph using graphviz.\"\"\"\n",
        "    nodes, edges = de_bruijn_ize(st, k)\n",
        "    dot = Digraph(format='png')  # Erstelle eine Digraph-Instanz für gerichtete Graphen\n",
        "    for node in nodes:\n",
        "        dot.node(node, label=node)  # Füge die Knoten hinzu\n",
        "    for src, dst in edges:\n",
        "        dot.edge(src, dst)  # Füge die Kanten hinzu\n",
        "    return dot"
      ]
    },
    {
      "cell_type": "code",
      "execution_count": 6,
      "metadata": {
        "id": "zkOv9ZXwMHyW",
        "outputId": "176d6f98-3feb-4f8f-fcea-3b32c4671b01",
        "colab": {
          "base_uri": "https://localhost:8080/"
        }
      },
      "outputs": [
        {
          "output_type": "stream",
          "name": "stdout",
          "text": [
            "Requirement already satisfied: graphviz in /usr/local/lib/python3.11/dist-packages (0.20.3)\n"
          ]
        }
      ],
      "source": [
        "# might have to install gvmagic this first:\n",
        "!pip install graphviz"
      ]
    },
    {
      "cell_type": "code",
      "execution_count": 7,
      "metadata": {
        "id": "fN9oO1_HMHyW",
        "outputId": "eaf97f8b-3136-4779-8e21-1387c7eeace6",
        "colab": {
          "base_uri": "https://localhost:8080/"
        }
      },
      "outputs": [
        {
          "output_type": "stream",
          "name": "stdout",
          "text": [
            "The graphviz module is not an IPython extension.\n"
          ]
        }
      ],
      "source": [
        "%load_ext graphviz"
      ]
    },
    {
      "cell_type": "code",
      "execution_count": 8,
      "metadata": {
        "id": "C-TV78eEMHyX",
        "outputId": "db825937-061f-4fb5-bf9b-9555948d00dc",
        "colab": {
          "base_uri": "https://localhost:8080/",
          "height": 272
        }
      },
      "outputs": [
        {
          "output_type": "execute_result",
          "data": {
            "image/svg+xml": "<?xml version=\"1.0\" encoding=\"UTF-8\" standalone=\"no\"?>\n<!DOCTYPE svg PUBLIC \"-//W3C//DTD SVG 1.1//EN\"\n \"http://www.w3.org/Graphics/SVG/1.1/DTD/svg11.dtd\">\n<!-- Generated by graphviz version 2.43.0 (0)\n -->\n<!-- Title: %3 Pages: 1 -->\n<svg width=\"134pt\" height=\"188pt\"\n viewBox=\"0.00 0.00 134.00 188.00\" xmlns=\"http://www.w3.org/2000/svg\" xmlns:xlink=\"http://www.w3.org/1999/xlink\">\n<g id=\"graph0\" class=\"graph\" transform=\"scale(1 1) rotate(0) translate(4 184)\">\n<title>%3</title>\n<polygon fill=\"white\" stroke=\"transparent\" points=\"-4,4 -4,-184 130,-184 130,4 -4,4\"/>\n<!-- TC -->\n<g id=\"node1\" class=\"node\">\n<title>TC</title>\n<ellipse fill=\"none\" stroke=\"black\" cx=\"27\" cy=\"-162\" rx=\"27\" ry=\"18\"/>\n<text text-anchor=\"middle\" x=\"27\" y=\"-158.3\" font-family=\"Times,serif\" font-size=\"14.00\">TC</text>\n</g>\n<!-- CG -->\n<g id=\"node4\" class=\"node\">\n<title>CG</title>\n<ellipse fill=\"none\" stroke=\"black\" cx=\"99\" cy=\"-90\" rx=\"27\" ry=\"18\"/>\n<text text-anchor=\"middle\" x=\"99\" y=\"-86.3\" font-family=\"Times,serif\" font-size=\"14.00\">CG</text>\n</g>\n<!-- TC&#45;&gt;CG -->\n<g id=\"edge6\" class=\"edge\">\n<title>TC&#45;&gt;CG</title>\n<path fill=\"none\" stroke=\"black\" d=\"M41.57,-146.83C51.75,-136.94 65.52,-123.55 77.03,-112.36\"/>\n<polygon fill=\"black\" stroke=\"black\" points=\"79.47,-114.87 84.2,-105.38 74.59,-109.85 79.47,-114.87\"/>\n</g>\n<!-- AC -->\n<g id=\"node2\" class=\"node\">\n<title>AC</title>\n<ellipse fill=\"none\" stroke=\"black\" cx=\"99\" cy=\"-162\" rx=\"27\" ry=\"18\"/>\n<text text-anchor=\"middle\" x=\"99\" y=\"-158.3\" font-family=\"Times,serif\" font-size=\"14.00\">AC</text>\n</g>\n<!-- AC&#45;&gt;CG -->\n<g id=\"edge1\" class=\"edge\">\n<title>AC&#45;&gt;CG</title>\n<path fill=\"none\" stroke=\"black\" d=\"M99,-143.7C99,-135.98 99,-126.71 99,-118.11\"/>\n<polygon fill=\"black\" stroke=\"black\" points=\"102.5,-118.1 99,-108.1 95.5,-118.1 102.5,-118.1\"/>\n</g>\n<!-- GT -->\n<g id=\"node3\" class=\"node\">\n<title>GT</title>\n<ellipse fill=\"none\" stroke=\"black\" cx=\"27\" cy=\"-18\" rx=\"27\" ry=\"18\"/>\n<text text-anchor=\"middle\" x=\"27\" y=\"-14.3\" font-family=\"Times,serif\" font-size=\"14.00\">GT</text>\n</g>\n<!-- GT&#45;&gt;TC -->\n<g id=\"edge5\" class=\"edge\">\n<title>GT&#45;&gt;TC</title>\n<path fill=\"none\" stroke=\"black\" d=\"M27,-36.19C27,-60.42 27,-104.89 27,-133.68\"/>\n<polygon fill=\"black\" stroke=\"black\" points=\"23.5,-133.87 27,-143.87 30.5,-133.87 23.5,-133.87\"/>\n</g>\n<!-- CG&#45;&gt;GT -->\n<g id=\"edge4\" class=\"edge\">\n<title>CG&#45;&gt;GT</title>\n<path fill=\"none\" stroke=\"black\" d=\"M84.43,-74.83C74.25,-64.94 60.48,-51.55 48.97,-40.36\"/>\n<polygon fill=\"black\" stroke=\"black\" points=\"51.41,-37.85 41.8,-33.38 46.53,-42.87 51.41,-37.85\"/>\n</g>\n<!-- GC -->\n<g id=\"node5\" class=\"node\">\n<title>GC</title>\n<ellipse fill=\"none\" stroke=\"black\" cx=\"99\" cy=\"-18\" rx=\"27\" ry=\"18\"/>\n<text text-anchor=\"middle\" x=\"99\" y=\"-14.3\" font-family=\"Times,serif\" font-size=\"14.00\">GC</text>\n</g>\n<!-- CG&#45;&gt;GC -->\n<g id=\"edge2\" class=\"edge\">\n<title>CG&#45;&gt;GC</title>\n<path fill=\"none\" stroke=\"black\" d=\"M93.16,-72.41C92.3,-64.51 92.05,-54.85 92.41,-45.94\"/>\n<polygon fill=\"black\" stroke=\"black\" points=\"95.9,-46.18 93.12,-35.96 88.92,-45.68 95.9,-46.18\"/>\n</g>\n<!-- GC&#45;&gt;CG -->\n<g id=\"edge3\" class=\"edge\">\n<title>GC&#45;&gt;CG</title>\n<path fill=\"none\" stroke=\"black\" d=\"M104.88,-35.96C105.71,-43.83 105.95,-53.37 105.58,-62.19\"/>\n<polygon fill=\"black\" stroke=\"black\" points=\"102.07,-62.18 104.84,-72.41 109.06,-62.69 102.07,-62.18\"/>\n</g>\n</g>\n</svg>\n",
            "text/plain": [
              "<graphviz.graphs.Digraph at 0x7b27602271d0>"
            ]
          },
          "metadata": {},
          "execution_count": 8
        }
      ],
      "source": [
        "visualize_de_bruijn(\"ACGCGTCG\", 3)"
      ]
    }
  ],
  "metadata": {
    "kernelspec": {
      "display_name": "Python 3",
      "language": "python",
      "name": "python3"
    },
    "language_info": {
      "codemirror_mode": {
        "name": "ipython",
        "version": 3
      },
      "file_extension": ".py",
      "mimetype": "text/x-python",
      "name": "python",
      "nbconvert_exporter": "python",
      "pygments_lexer": "ipython3",
      "version": "3.6.3"
    },
    "colab": {
      "provenance": [],
      "include_colab_link": true
    }
  },
  "nbformat": 4,
  "nbformat_minor": 0
}