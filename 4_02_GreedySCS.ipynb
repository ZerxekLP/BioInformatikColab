{
  "cells": [
    {
      "cell_type": "markdown",
      "metadata": {
        "id": "view-in-github",
        "colab_type": "text"
      },
      "source": [
        "<a href=\"https://colab.research.google.com/github/ZerxekLP/BioInformatikColab/blob/main/4_02_GreedySCS.ipynb\" target=\"_parent\"><img src=\"https://colab.research.google.com/assets/colab-badge.svg\" alt=\"Open In Colab\"/></a>"
      ]
    },
    {
      "cell_type": "markdown",
      "metadata": {
        "id": "CO1fihoS-2D7"
      },
      "source": [
        "# Shortest Common Superstring Problem\n",
        "## Greedy Shortest Common Super String\n",
        "\n",
        "Greedy Algorithms decide at each stage which alternative reduces problem complexity most."
      ]
    },
    {
      "cell_type": "code",
      "execution_count": 2,
      "metadata": {
        "collapsed": true,
        "id": "jwhV5oqN-2D9"
      },
      "outputs": [],
      "source": [
        "def overlap(a: str, b: str, min_length: int = 3) -> int:\n",
        "    \"\"\" Return length of longest suffix of 'a' matching\n",
        "        a prefix of 'b' that is at least 'min_length'\n",
        "        characters long. If no such overlap exists, return 0. \"\"\"\n",
        "    start = 0  # Start looking for 'b' in 'a'\n",
        "    while True:\n",
        "        start = a.find(b[:min_length], start)  # Find occurrence of b's prefix in a\n",
        "        if start == -1:  # No more occurrences to check\n",
        "            return 0\n",
        "        # Check if suffix of a starting at 'start' matches prefix of b\n",
        "        if b.startswith(a[start:]):\n",
        "            return len(a) - start\n",
        "        start += 1\n"
      ]
    },
    {
      "cell_type": "code",
      "execution_count": 4,
      "metadata": {
        "collapsed": true,
        "id": "-Kfpe1IO-2D-"
      },
      "outputs": [],
      "source": [
        "import itertools\n",
        "from typing import List\n",
        "\n",
        "def scs(ss: List[str]) -> str:\n",
        "    \"\"\" Returns shortest common superstring of given strings,\n",
        "        assuming no string is a strict substring of another. \"\"\"\n",
        "    shortest_sup = None\n",
        "    for ssperm in itertools.permutations(ss):\n",
        "        sup = ssperm[0]  # Start with the first string in permutation\n",
        "        for i in range(1, len(ssperm)):\n",
        "            # Find the overlap between the current superstring and next string\n",
        "            olen = overlap(sup, ssperm[i], min_length=1)\n",
        "            # Append the non-overlapping part of the next string to the superstring\n",
        "            sup += ssperm[i][olen:]\n",
        "        # Check if this superstring is the shortest one found\n",
        "        if shortest_sup is None or len(sup) < len(shortest_sup):\n",
        "            shortest_sup = sup\n",
        "    return shortest_sup\n"
      ]
    },
    {
      "cell_type": "code",
      "execution_count": 5,
      "metadata": {
        "collapsed": true,
        "id": "UcJ1VXZ0-2D-"
      },
      "outputs": [],
      "source": [
        "from typing import Tuple\n",
        "def pick_maximal_overlap(reads: List[str], k: int) -> Tuple[str, str, int]:\n",
        "    \"\"\" Return a pair of reads from the list with a\n",
        "        maximal suffix/prefix overlap >= k. Returns\n",
        "        overlap length 0 if there are no such overlaps. \"\"\"\n",
        "    reada, readb = None, None\n",
        "    best_olen = 0\n",
        "    for a, b in itertools.permutations(reads, 2):\n",
        "        olen = overlap(a, b, min_length=k)\n",
        "        if olen > best_olen:\n",
        "            reada, readb = a, b\n",
        "            best_olen = olen\n",
        "    return reada, readb, best_olen\n"
      ]
    },
    {
      "cell_type": "code",
      "execution_count": 6,
      "metadata": {
        "collapsed": true,
        "id": "MwaJE1g5-2D_"
      },
      "outputs": [],
      "source": [
        "from typing import List\n",
        "\n",
        "def greedy_scs(reads: List[str], k: int) -> str:\n",
        "    \"\"\" Greedy shortest-common-superstring merge.\n",
        "        Repeat until no edges (overlaps of length >= k)\n",
        "        remain. \"\"\"\n",
        "    while True:\n",
        "        # Find the pair of strings with the maximal overlap\n",
        "        reada, readb, best_olen = pick_maximal_overlap(reads, k)\n",
        "        if best_olen == 0:  # No overlap >= k found\n",
        "            break\n",
        "        # Merge the two strings with the maximal overlap\n",
        "        reads.remove(reada)\n",
        "        reads.remove(readb)\n",
        "        merged = reada + readb[best_olen:]  # Combine with the overlap removed\n",
        "        reads.append(merged)  # Add merged string back to reads\n",
        "\n",
        "    # Join remaining reads into the shortest common superstring\n",
        "    return ''.join(reads)\n"
      ]
    },
    {
      "cell_type": "code",
      "execution_count": 7,
      "metadata": {
        "id": "ABJeBJhI-2D_",
        "outputId": "741b6d6d-e9a7-4f31-8080-c718285dd640",
        "colab": {
          "base_uri": "https://localhost:8080/",
          "height": 70
        }
      },
      "outputs": [
        {
          "output_type": "stream",
          "name": "stdout",
          "text": [
            "CPU times: user 27 µs, sys: 0 ns, total: 27 µs\n",
            "Wall time: 30.5 µs\n"
          ]
        },
        {
          "output_type": "execute_result",
          "data": {
            "text/plain": [
              "'CABCA'"
            ],
            "application/vnd.google.colaboratory.intrinsic+json": {
              "type": "string"
            }
          },
          "metadata": {},
          "execution_count": 7
        }
      ],
      "source": [
        "%%time\n",
        "greedy_scs(['ABC', 'BCA', 'CAB'], 2)"
      ]
    },
    {
      "cell_type": "code",
      "execution_count": 8,
      "metadata": {
        "id": "ZDd-aDsj-2EA",
        "outputId": "0530c584-9cad-456f-8117-10850d1d4318",
        "colab": {
          "base_uri": "https://localhost:8080/",
          "height": 70
        }
      },
      "outputs": [
        {
          "output_type": "stream",
          "name": "stdout",
          "text": [
            "CPU times: user 18 µs, sys: 3 µs, total: 21 µs\n",
            "Wall time: 23.8 µs\n"
          ]
        },
        {
          "output_type": "execute_result",
          "data": {
            "text/plain": [
              "'CDBCABCDA'"
            ],
            "application/vnd.google.colaboratory.intrinsic+json": {
              "type": "string"
            }
          },
          "metadata": {},
          "execution_count": 8
        }
      ],
      "source": [
        "%%time\n",
        "greedy_scs(['ABCD', 'CDBC', 'BCDA'], 1)"
      ]
    },
    {
      "cell_type": "code",
      "execution_count": 9,
      "metadata": {
        "id": "eyi78zBo-2EA",
        "outputId": "96ee48bc-3789-45e1-af75-3e340e4ffadb",
        "colab": {
          "base_uri": "https://localhost:8080/",
          "height": 70
        }
      },
      "outputs": [
        {
          "output_type": "stream",
          "name": "stdout",
          "text": [
            "CPU times: user 25 µs, sys: 0 ns, total: 25 µs\n",
            "Wall time: 27.9 µs\n"
          ]
        },
        {
          "output_type": "execute_result",
          "data": {
            "text/plain": [
              "'ABCDBCDA'"
            ],
            "application/vnd.google.colaboratory.intrinsic+json": {
              "type": "string"
            }
          },
          "metadata": {},
          "execution_count": 9
        }
      ],
      "source": [
        "%%time\n",
        "scs(['ABCD', 'CDBC', 'BCDA'])"
      ]
    }
  ],
  "metadata": {
    "kernelspec": {
      "display_name": "Python 2",
      "language": "python",
      "name": "python2"
    },
    "language_info": {
      "codemirror_mode": {
        "name": "ipython",
        "version": 2
      },
      "file_extension": ".py",
      "mimetype": "text/x-python",
      "name": "python",
      "nbconvert_exporter": "python",
      "pygments_lexer": "ipython2",
      "version": "2.7.12"
    },
    "colab": {
      "provenance": [],
      "include_colab_link": true
    }
  },
  "nbformat": 4,
  "nbformat_minor": 0
}