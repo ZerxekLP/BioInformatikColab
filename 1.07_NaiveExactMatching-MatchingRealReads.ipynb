{
  "cells": [
    {
      "cell_type": "markdown",
      "metadata": {
        "id": "6V6d6BGMp0lF"
      },
      "source": [
        "# NaiveExactMatching-MatchingRealReads"
      ]
    },
    {
      "cell_type": "code",
      "execution_count": 8,
      "metadata": {
        "id": "57nCohh0p0lG",
        "outputId": "8593aad9-39a4-406c-a3fa-91bcdcdc10db",
        "colab": {
          "base_uri": "https://localhost:8080/"
        }
      },
      "outputs": [
        {
          "output_type": "stream",
          "name": "stdout",
          "text": [
            "--2024-11-18 15:31:59--  http://d28rh4a8wq0iu5.cloudfront.net/ads1/data/phix.fa\n",
            "Resolving d28rh4a8wq0iu5.cloudfront.net (d28rh4a8wq0iu5.cloudfront.net)... 3.168.96.135, 3.168.96.211, 3.168.96.88, ...\n",
            "Connecting to d28rh4a8wq0iu5.cloudfront.net (d28rh4a8wq0iu5.cloudfront.net)|3.168.96.135|:80... connected.\n",
            "HTTP request sent, awaiting response... 200 OK\n",
            "Length: 5528 (5.4K) [application/octet-stream]\n",
            "Saving to: ‘phix.fa’\n",
            "\n",
            "phix.fa             100%[===================>]   5.40K  --.-KB/s    in 0s      \n",
            "\n",
            "2024-11-18 15:31:59 (414 MB/s) - ‘phix.fa’ saved [5528/5528]\n",
            "\n"
          ]
        }
      ],
      "source": [
        "!wget http://d28rh4a8wq0iu5.cloudfront.net/ads1/data/phix.fa"
      ]
    },
    {
      "cell_type": "code",
      "execution_count": 1,
      "metadata": {
        "id": "jZmNetYqp0lH"
      },
      "outputs": [],
      "source": [
        "import unittest\n",
        "import collections\n",
        "class TestMatchingArtificialReads(unittest.TestCase):\n",
        "    def test_readGenome(self):\n",
        "        self.assertEqual(len(readGenome('phix.fa')), 5386, 'length of genome string for file phix.fa is wrong! Correct length should be: 5386')\n",
        "    def test_naive(self):\n",
        "        self.assertEqual(naive('AG','AGCTTAGATAGC'), [0, 5, 9], 'Tested naive with parameters: p=\"AG\" and t=\"AGCTTAGATAGC\". Should return this list of occurences: [0, 5, 9]')\n",
        "    def test_generate_reads(self):\n",
        "        self.test_readGenome()\n",
        "        genome = readGenome('phix.fa')\n",
        "        reads = generateReads(genome, 100, 100)\n",
        "        self.assertEqual(len(reads), 100, 'Generated wrong number of reads! Should be 100 is {}'.format(len(reads)))\n",
        "        for read in reads:\n",
        "            self.assertEqual(len(read), 100, 'Read has wrong length. Should be 100 is {}'.format(len(read)))\n",
        "    def test_readFastq(self):\n",
        "        phix_reads = readFastq('ERR266411_1.first1000.fastq')\n",
        "        count = collections.Counter()\n",
        "        for read in phix_reads:\n",
        "            count.update(read)\n",
        "        self.assertEqual(count['T'], 30531, 'Count for T is wrong. Should be 30531 but is {}'.format(count['T']))\n",
        "        self.assertEqual(count['A'], 28426, 'Count for A is wrong. Should be 30531 but is {}'.format(count['A']))\n",
        "        self.assertEqual(count['C'], 21890, 'Count for C is wrong. Should be 30531 but is {}'.format(count['C']))\n",
        "        self.assertEqual(count['G'], 19147, 'Count for G is wrong. Should be 30531 but is {}'.format(count['G']))\n",
        "        self.assertEqual(count['N'], 6, 'Count for N is wrong. Should be 30531 but is {}'.format(count['N']))"
      ]
    },
    {
      "cell_type": "code",
      "execution_count": 2,
      "metadata": {
        "id": "Tq932qdQp0lI"
      },
      "outputs": [],
      "source": [
        "def readGenome(filename):\n",
        "    \"\"\" Reads dna data from a given file\n",
        "    param: filename name of a fasta file\n",
        "    returns: dna data without the ids of the fasta file\n",
        "    rtype: string\n",
        "    \"\"\"\n",
        "\n",
        "    genome = []\n",
        "    with open(filename, 'r') as file:\n",
        "      for line in file:\n",
        "        if not line[0] == '>':\n",
        "          genome += line.rstrip()\n",
        "\n",
        "    return \"\".join(genome)"
      ]
    },
    {
      "cell_type": "code",
      "execution_count": 9,
      "metadata": {
        "id": "rGX6o3bXp0lI"
      },
      "outputs": [],
      "source": [
        "phix_reads = readGenome('phix.fa')"
      ]
    },
    {
      "cell_type": "code",
      "execution_count": 10,
      "metadata": {
        "id": "eMBG30t-p0lJ"
      },
      "outputs": [],
      "source": [
        "def naive(p, t):\n",
        "    \"\"\"Implementation of a 'naive' pattern search in text t\n",
        "    param: p search-pattern\n",
        "    param: t text to search in\n",
        "    returns: list of occurences\n",
        "    \"\"\"\n",
        "    occurrences = []\n",
        "    for i in range(len(t) - len(p) +1):\n",
        "      for j in range(len(p)):\n",
        "        if t[i+j] == p[j]:\n",
        "          if j == len(p)-1:\n",
        "            occurrences.append(i)\n",
        "        else:\n",
        "          break;\n",
        "    return occurrences"
      ]
    },
    {
      "cell_type": "code",
      "execution_count": 4,
      "metadata": {
        "id": "Qx2p5thup0lJ"
      },
      "outputs": [],
      "source": [
        "import random\n",
        "def generateReads(genome, numReads, readLen):\n",
        "    \"\"\"Generate reads from random positions in the given genome.\n",
        "    param: genome dna data from which reads should be generated\n",
        "    param: numReads defines how many different reads are generated\n",
        "    param: readLen defines the length of each read\n",
        "    returns: list containing the generated reads\n",
        "    \"\"\"\n",
        "    reads = []\n",
        "    for _ in range(numReads):\n",
        "      randomNuc = random.randrange(0, len(genome) - readLen)\n",
        "      read = \"\"\n",
        "\n",
        "      for i in range(readLen):\n",
        "        read += genome[randomNuc + i]\n",
        "      reads.append(read)\n",
        "\n",
        "    return reads"
      ]
    },
    {
      "cell_type": "code",
      "execution_count": 11,
      "metadata": {
        "id": "CEo9Ori0p0lJ",
        "outputId": "8e6ff4be-e412-4827-cd18-2e7c27ed4711",
        "colab": {
          "base_uri": "https://localhost:8080/"
        }
      },
      "outputs": [
        {
          "output_type": "stream",
          "name": "stderr",
          "text": [
            "...\n",
            "----------------------------------------------------------------------\n",
            "Ran 3 tests in 0.012s\n",
            "\n",
            "OK\n"
          ]
        },
        {
          "output_type": "execute_result",
          "data": {
            "text/plain": [
              "<unittest.runner.TextTestResult run=3 errors=0 failures=0>"
            ]
          },
          "metadata": {},
          "execution_count": 11
        }
      ],
      "source": [
        "tests = TestMatchingArtificialReads()\n",
        "suite = unittest.TestSuite()\n",
        "suite.addTest(TestMatchingArtificialReads('test_readGenome'))\n",
        "suite.addTest(TestMatchingArtificialReads('test_naive'))\n",
        "suite.addTest(TestMatchingArtificialReads('test_generate_reads'))\n",
        "unittest.TextTestRunner().run(suite)"
      ]
    },
    {
      "cell_type": "code",
      "source": [
        "genome = readGenome('phix.fa')\n",
        "genome[:100]"
      ],
      "metadata": {
        "id": "CH4rFN2L585r",
        "outputId": "ac030a0b-014d-4786-ca77-92e9569f3951",
        "colab": {
          "base_uri": "https://localhost:8080/",
          "height": 36
        }
      },
      "execution_count": 13,
      "outputs": [
        {
          "output_type": "execute_result",
          "data": {
            "text/plain": [
              "'GAGTTTTATCGCTTCCATGACGCAGAAGTTAACACTTTCGGATATTTCTGATGAGTCGAAAAATTATCTTGATAAAGCAGGAATTACTACTGCTTGTTTA'"
            ],
            "application/vnd.google.colaboratory.intrinsic+json": {
              "type": "string"
            }
          },
          "metadata": {},
          "execution_count": 13
        }
      ]
    },
    {
      "cell_type": "code",
      "execution_count": 14,
      "metadata": {
        "id": "tDxSHft8p0lK",
        "outputId": "8e31e986-aa9d-42ce-9fd4-870744b02fe8",
        "colab": {
          "base_uri": "https://localhost:8080/"
        }
      },
      "outputs": [
        {
          "output_type": "stream",
          "name": "stdout",
          "text": [
            "100 / 100 reads matched the genome exactly!\n"
          ]
        }
      ],
      "source": [
        "# Generate 100 reads of length 100\n",
        "reads = generateReads(genome, 100, 100)\n",
        "\n",
        "# Count how many reads match the genome exactly\n",
        "numMatched = 0\n",
        "for r in reads:\n",
        "    matches = naive(r, genome)\n",
        "    if len(matches) > 0:\n",
        "        numMatched += 1\n",
        "print(f'{numMatched} / {len(reads)} reads matched the genome exactly!')"
      ]
    },
    {
      "cell_type": "code",
      "execution_count": 15,
      "metadata": {
        "id": "EKv1xmpzp0lK",
        "outputId": "3d5ab438-38a6-4c9f-85e4-226c1195c8e3",
        "colab": {
          "base_uri": "https://localhost:8080/"
        }
      },
      "outputs": [
        {
          "output_type": "stream",
          "name": "stdout",
          "text": [
            "--2024-11-18 15:33:20--  http://d28rh4a8wq0iu5.cloudfront.net/ads1/data/ERR266411_1.first1000.fastq\n",
            "Resolving d28rh4a8wq0iu5.cloudfront.net (d28rh4a8wq0iu5.cloudfront.net)... 18.238.180.158, 18.238.180.106, 18.238.180.156, ...\n",
            "Connecting to d28rh4a8wq0iu5.cloudfront.net (d28rh4a8wq0iu5.cloudfront.net)|18.238.180.158|:80... connected.\n",
            "HTTP request sent, awaiting response... 200 OK\n",
            "Length: 254384 (248K) [audio/mpeg]\n",
            "Saving to: ‘ERR266411_1.first1000.fastq’\n",
            "\n",
            "ERR266411_1.first10 100%[===================>] 248.42K  --.-KB/s    in 0.04s   \n",
            "\n",
            "2024-11-18 15:33:20 (5.44 MB/s) - ‘ERR266411_1.first1000.fastq’ saved [254384/254384]\n",
            "\n"
          ]
        }
      ],
      "source": [
        "# On Windows you have to manually download the file\n",
        "!wget http://d28rh4a8wq0iu5.cloudfront.net/ads1/data/ERR266411_1.first1000.fastq"
      ]
    },
    {
      "cell_type": "code",
      "execution_count": 19,
      "metadata": {
        "id": "96UOqLq6p0lK"
      },
      "outputs": [],
      "source": [
        "def readFastq(filename):\n",
        "    \"\"\" Reads a FastQ File\n",
        "    param filename: name of the fastq file\n",
        "    returns: list containing all the dna sequences from the fastq file\n",
        "    \"\"\"\n",
        "    sequences = []\n",
        "    index = 1\n",
        "\n",
        "    with open(filename) as fh:\n",
        "        line = fh.readline()\n",
        "        while line:\n",
        "\n",
        "          if(index % 4 == 2):\n",
        "            sequences.append(line.strip())\n",
        "\n",
        "          index += 1\n",
        "          line = fh.readline()\n",
        "\n",
        "    #sequences.pop(-1)\n",
        "    #qualities.pop(-1)\n",
        "\n",
        "\n",
        "    return sequences"
      ]
    },
    {
      "cell_type": "code",
      "execution_count": 17,
      "metadata": {
        "id": "oDJWOKYPp0lL",
        "outputId": "9e368c2c-f6a7-457e-c742-cf39044f7d19",
        "colab": {
          "base_uri": "https://localhost:8080/"
        }
      },
      "outputs": [
        {
          "output_type": "stream",
          "name": "stderr",
          "text": [
            "F\n",
            "======================================================================\n",
            "FAIL: test_readFastq (__main__.TestMatchingArtificialReads)\n",
            "----------------------------------------------------------------------\n",
            "Traceback (most recent call last):\n",
            "  File \"<ipython-input-1-d3c8ca85875b>\", line 20, in test_readFastq\n",
            "    self.assertEqual(count['T'], 30531, 'Count for T is wrong. Should be 30531 but is {}'.format(count['T']))\n",
            "AssertionError: 0 != 30531 : Count for T is wrong. Should be 30531 but is 0\n",
            "\n",
            "----------------------------------------------------------------------\n",
            "Ran 1 test in 0.003s\n",
            "\n",
            "FAILED (failures=1)\n"
          ]
        },
        {
          "output_type": "execute_result",
          "data": {
            "text/plain": [
              "<unittest.runner.TextTestResult run=1 errors=0 failures=1>"
            ]
          },
          "metadata": {},
          "execution_count": 17
        }
      ],
      "source": [
        "tests = TestMatchingArtificialReads()\n",
        "suite = unittest.TestSuite()\n",
        "suite.addTest(TestMatchingArtificialReads('test_readFastq'))\n",
        "unittest.TextTestRunner().run(suite)"
      ]
    },
    {
      "cell_type": "code",
      "execution_count": 26,
      "metadata": {
        "id": "ipT2z-8Mp0lL",
        "outputId": "e30b171d-471e-46f2-80fa-7e795c6fa86d",
        "colab": {
          "base_uri": "https://localhost:8080/"
        }
      },
      "outputs": [
        {
          "output_type": "stream",
          "name": "stdout",
          "text": [
            "7 / 1000 reads matched the genome exactly!\n"
          ]
        }
      ],
      "source": [
        "phix_reads = readFastq('ERR266411_1.first1000.fastq')\n",
        "numMatched = 0\n",
        "n = 0\n",
        "for r in phix_reads:\n",
        "    matches = naive(r, genome)\n",
        "    n += 1\n",
        "    if len(matches) > 0:\n",
        "        numMatched += 1\n",
        "print(f'{numMatched} / {n} reads matched the genome exactly!')"
      ]
    },
    {
      "cell_type": "code",
      "execution_count": 25,
      "metadata": {
        "id": "XzURnQiSp0lL",
        "outputId": "171e4b76-5e35-4640-e761-1033e06f5cbd",
        "colab": {
          "base_uri": "https://localhost:8080/"
        }
      },
      "outputs": [
        {
          "output_type": "stream",
          "name": "stdout",
          "text": [
            "459 / 1000 reads matched the genome exactly!\n"
          ]
        }
      ],
      "source": [
        "# Now let's try matching just the first 30 bases of each read\n",
        "numMatched = 0\n",
        "n = 0\n",
        "for r in phix_reads:\n",
        "    r = r[:30]  # just taking the first 30 bases\n",
        "    matches = naive(r, genome)\n",
        "    n += 1\n",
        "    if len(matches) > 0:\n",
        "        numMatched += 1\n",
        "print(f'{numMatched} / {n} reads matched the genome exactly!')"
      ]
    },
    {
      "cell_type": "code",
      "execution_count": 22,
      "metadata": {
        "id": "0BiCTdhOp0lL"
      },
      "outputs": [],
      "source": [
        "def reverseComplement(s):\n",
        "    complement = {'A': 'T', 'C': 'G', 'G': 'C', 'T': 'A', 'N': 'N'}\n",
        "    t = ''\n",
        "    for base in s:\n",
        "        t = complement[base] + t\n",
        "    return t"
      ]
    },
    {
      "cell_type": "code",
      "execution_count": 23,
      "metadata": {
        "id": "pl9JeoAfp0lL",
        "outputId": "951e2fc7-a534-4d17-d89c-a08b25139644",
        "colab": {
          "base_uri": "https://localhost:8080/"
        }
      },
      "outputs": [
        {
          "output_type": "stream",
          "name": "stdout",
          "text": [
            "932 / 1000 reads matched the genome exactly!\n"
          ]
        }
      ],
      "source": [
        "phix_reads = readFastq('ERR266411_1.first1000.fastq')\n",
        "numMatched = 0\n",
        "n = 0\n",
        "for r in phix_reads:\n",
        "    r = r[:30]  # just taking the first 30 bases\n",
        "    matches = naive(r, genome)\n",
        "    matches.extend(naive(reverseComplement(r), genome))\n",
        "    n += 1\n",
        "    if len(matches) > 0:\n",
        "        numMatched += 1\n",
        "print(f'{numMatched} / {n} reads matched the genome exactly!')"
      ]
    },
    {
      "cell_type": "markdown",
      "metadata": {
        "id": "iN5Z9ihmp0lM"
      },
      "source": [
        "### Compare the different results on the matches!\n",
        "Think of the different numbers of matches and why these numbers arise. Make some notes!\n",
        "\n"
      ]
    }
  ],
  "metadata": {
    "kernelspec": {
      "display_name": "PyCharm (ai-tracer-dash)",
      "language": "python",
      "name": "pycharm-898b6f66"
    },
    "language_info": {
      "codemirror_mode": {
        "name": "ipython",
        "version": 3
      },
      "file_extension": ".py",
      "mimetype": "text/x-python",
      "name": "python",
      "nbconvert_exporter": "python",
      "pygments_lexer": "ipython3",
      "version": "3.7.7"
    },
    "toc": {
      "base_numbering": 1,
      "nav_menu": {},
      "number_sections": true,
      "sideBar": true,
      "skip_h1_title": false,
      "title_cell": "Table of Contents",
      "title_sidebar": "Contents",
      "toc_cell": false,
      "toc_position": {},
      "toc_section_display": true,
      "toc_window_display": false
    },
    "varInspector": {
      "cols": {
        "lenName": 16,
        "lenType": 16,
        "lenVar": 40
      },
      "kernels_config": {
        "python": {
          "delete_cmd_postfix": "",
          "delete_cmd_prefix": "del ",
          "library": "var_list.py",
          "varRefreshCmd": "print(var_dic_list())"
        },
        "r": {
          "delete_cmd_postfix": ") ",
          "delete_cmd_prefix": "rm(",
          "library": "var_list.r",
          "varRefreshCmd": "cat(var_dic_list()) "
        }
      },
      "types_to_exclude": [
        "module",
        "function",
        "builtin_function_or_method",
        "instance",
        "_Feature"
      ],
      "window_display": true
    },
    "colab": {
      "provenance": []
    }
  },
  "nbformat": 4,
  "nbformat_minor": 0
}