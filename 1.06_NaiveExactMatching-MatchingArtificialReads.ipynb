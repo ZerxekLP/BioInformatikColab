{
  "cells": [
    {
      "cell_type": "code",
      "execution_count": 6,
      "metadata": {
        "id": "oQsESXZnpPtv",
        "outputId": "85209ee8-0f9a-4a64-ae29-569a7d886411",
        "colab": {
          "base_uri": "https://localhost:8080/"
        }
      },
      "outputs": [
        {
          "output_type": "stream",
          "name": "stdout",
          "text": [
            "--2024-11-18 15:18:04--  http://d28rh4a8wq0iu5.cloudfront.net/ads1/data/phix.fa\n",
            "Resolving d28rh4a8wq0iu5.cloudfront.net (d28rh4a8wq0iu5.cloudfront.net)... 3.163.78.78, 3.163.78.34, 3.163.78.207, ...\n",
            "Connecting to d28rh4a8wq0iu5.cloudfront.net (d28rh4a8wq0iu5.cloudfront.net)|3.163.78.78|:80... connected.\n",
            "HTTP request sent, awaiting response... 200 OK\n",
            "Length: 5528 (5.4K) [application/octet-stream]\n",
            "Saving to: ‘phix.fa’\n",
            "\n",
            "phix.fa             100%[===================>]   5.40K  --.-KB/s    in 0s      \n",
            "\n",
            "2024-11-18 15:18:04 (529 MB/s) - ‘phix.fa’ saved [5528/5528]\n",
            "\n"
          ]
        }
      ],
      "source": [
        "# Funktioniert nur unter ix-Betriebssystemen. Unter Windows muss die Datei manuell herunter-\n",
        "# geladen werden.\n",
        "!wget http://d28rh4a8wq0iu5.cloudfront.net/ads1/data/phix.fa"
      ]
    },
    {
      "cell_type": "code",
      "execution_count": 1,
      "metadata": {
        "collapsed": true,
        "id": "kScby_3TpPtx"
      },
      "outputs": [],
      "source": [
        "def readGenome(filename):\n",
        "    \"\"\" Reads dna data from a given file\n",
        "    param: filename name of a fasta file\n",
        "    returns: dna data without the ids of the fasta file\n",
        "    rtype: string\n",
        "    \"\"\"\n",
        "\n",
        "    genome = []\n",
        "    with open(filename, 'r') as file:\n",
        "      for line in file:\n",
        "        if not line[0] == '>':\n",
        "          genome += line.rstrip()\n",
        "\n",
        "    return \"\".join(genome)"
      ]
    },
    {
      "cell_type": "code",
      "execution_count": 13,
      "metadata": {
        "collapsed": true,
        "id": "KDNZeDX5pPtx"
      },
      "outputs": [],
      "source": [
        "def naive(p, t):\n",
        "    \"\"\"Implementation of a 'naive' pattern search in text t\n",
        "    param: p search-pattern\n",
        "    param: t text to search in\n",
        "    returns: list of occurences\n",
        "    \"\"\"\n",
        "    occurrences = []\n",
        "    for i in range(len(t) - len(p) +1):\n",
        "      for j in range(len(p)):\n",
        "        if t[i+j] == p[j]:\n",
        "          if j == len(p)-1:\n",
        "            occurrences.append(i)\n",
        "        else:\n",
        "          break;\n",
        "    return occurrences"
      ]
    },
    {
      "cell_type": "code",
      "execution_count": 4,
      "metadata": {
        "collapsed": true,
        "id": "foM39_fLpPty"
      },
      "outputs": [],
      "source": [
        "import random\n",
        "def generateReads(genome, numReads, readLen):\n",
        "    \"\"\"Generate reads from random positions in the given genome.\n",
        "    param: genome dna data from which reads should be generated\n",
        "    param: numReads defines how many different reads are generated\n",
        "    param: readLen defines the length of each read\n",
        "    returns: list containing the generated reads\n",
        "    \"\"\"\n",
        "    reads = []\n",
        "    for _ in range(numReads):\n",
        "      randomNuc = random.randrange(0, len(genome) - readLen)\n",
        "      read = \"\"\n",
        "\n",
        "      for i in range(readLen):\n",
        "        read += genome[randomNuc + i]\n",
        "      reads.append(read)\n",
        "\n",
        "    return reads"
      ]
    },
    {
      "cell_type": "code",
      "source": [
        "genome = readGenome('phix.fa')\n",
        "genome[:100]"
      ],
      "metadata": {
        "id": "IJmEYsMT2rCc",
        "outputId": "df25c2a9-b5f5-46c7-9123-c261d26ec1b3",
        "colab": {
          "base_uri": "https://localhost:8080/",
          "height": 36
        }
      },
      "execution_count": 8,
      "outputs": [
        {
          "output_type": "execute_result",
          "data": {
            "text/plain": [
              "'GAGTTTTATCGCTTCCATGACGCAGAAGTTAACACTTTCGGATATTTCTGATGAGTCGAAAAATTATCTTGATAAAGCAGGAATTACTACTGCTTGTTTA'"
            ],
            "application/vnd.google.colaboratory.intrinsic+json": {
              "type": "string"
            }
          },
          "metadata": {},
          "execution_count": 8
        }
      ]
    },
    {
      "cell_type": "code",
      "execution_count": 14,
      "metadata": {
        "id": "2pJP39-4pPty",
        "outputId": "97894e4d-3ff8-4b83-cd55-66c11357018b",
        "colab": {
          "base_uri": "https://localhost:8080/"
        }
      },
      "outputs": [
        {
          "output_type": "stream",
          "name": "stdout",
          "text": [
            "100 / 100 reads matched the genome exactly!\n"
          ]
        }
      ],
      "source": [
        "# Generate 100 reads of length 100\n",
        "reads = generateReads(genome, 100, 100)\n",
        "\n",
        "# Count how many reads match the genome exactly\n",
        "numMatched = 0\n",
        "for r in reads:\n",
        "    matches = naive(r, genome)\n",
        "    if len(matches) > 0:\n",
        "        numMatched += 1\n",
        "# works, but \"old\" python style\n",
        "# print('%d / %d reads matched the genome exactly!' % (numMatched, len(reads)))\n",
        "# new pythonic way using formatted strings...\n",
        "print(f'{numMatched} / {len(reads)} reads matched the genome exactly!')"
      ]
    },
    {
      "cell_type": "code",
      "execution_count": 15,
      "metadata": {
        "id": "Z_QLuhWppPty",
        "outputId": "abadcab4-af97-4c26-e429-6ff458461152",
        "colab": {
          "base_uri": "https://localhost:8080/"
        }
      },
      "outputs": [
        {
          "output_type": "stream",
          "name": "stderr",
          "text": [
            "test_notebook (__main__.TestNotebook) ... ok\n",
            "\n",
            "----------------------------------------------------------------------\n",
            "Ran 1 test in 0.012s\n",
            "\n",
            "OK\n"
          ]
        },
        {
          "output_type": "execute_result",
          "data": {
            "text/plain": [
              "<unittest.main.TestProgram at 0x7ecfbeedd510>"
            ]
          },
          "metadata": {},
          "execution_count": 15
        }
      ],
      "source": [
        "import pickle as pkl\n",
        "import unittest\n",
        "with open('1.06_vars.pkl', 'rb') as f:\n",
        "    genome  = pkl.load(f)\n",
        "\n",
        "class TestNotebook(unittest.TestCase):\n",
        "    def test_notebook(self):\n",
        "        self.assertEqual(genome, readGenome('phix.fa'))\n",
        "        self.assertEqual(naive('AG','AGCTTAGATAGC'), [0, 5, 9], 'Tested naive with parameters: p=\"AG\" and t=\"AGCTTAGATAGC\". Should return this list of occurences: [0, 5, 9]')\n",
        "        reads = generateReads(genome, 100, 100)\n",
        "        self.assertEqual(len(reads), 100, 'Generated wrong number of reads! Should be 100 is {}'.format(len(reads)))\n",
        "        self.assertEqual(numMatched, 100, 'NumMatched has wrong length. Should be 100 is {}'.format(numMatched))\n",
        "\n",
        "unittest.main(argv=[''], verbosity=2, exit=False)"
      ]
    },
    {
      "cell_type": "code",
      "execution_count": null,
      "metadata": {
        "id": "W2w3F0oepPtz"
      },
      "outputs": [],
      "source": []
    }
  ],
  "metadata": {
    "kernelspec": {
      "display_name": "Python 3",
      "language": "python",
      "name": "python3"
    },
    "language_info": {
      "codemirror_mode": {
        "name": "ipython",
        "version": 3
      },
      "file_extension": ".py",
      "mimetype": "text/x-python",
      "name": "python",
      "nbconvert_exporter": "python",
      "pygments_lexer": "ipython3",
      "version": "3.5.4"
    },
    "colab": {
      "provenance": []
    }
  },
  "nbformat": 4,
  "nbformat_minor": 0
}